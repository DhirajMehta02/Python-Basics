{
  "nbformat": 4,
  "nbformat_minor": 0,
  "metadata": {
    "colab": {
      "provenance": []
    },
    "kernelspec": {
      "name": "python3",
      "display_name": "Python 3"
    },
    "language_info": {
      "name": "python"
    }
  },
  "cells": [
    {
      "cell_type": "markdown",
      "source": [
        "# Python Basics"
      ],
      "metadata": {
        "id": "8-WxgOXJNFDu"
      }
    },
    {
      "cell_type": "markdown",
      "source": [
        "1. What is Python, and why is it popular ?\n",
        "    - Python is a programming language which is easy to use and read. It is popular because of it community support, it can be used for a wide range of applications, extensive libraries and can be used across multiple operating systems\n"
      ],
      "metadata": {
        "id": "-2ni2m7mNbu-"
      }
    },
    {
      "cell_type": "markdown",
      "source": [
        "2. What is an interpreter in Python ?\n",
        "   - An interpreter in Python is a program that processes the written in Python code line by line. It changes the Python code into bytecode and runs it directly."
      ],
      "metadata": {
        "id": "ajm33lR2PV1W"
      }
    },
    {
      "cell_type": "markdown",
      "source": [
        "3. What are pre-defined keywords in Python ?\n",
        "   - Pre-defined keywords in Python are reserved words that have specific meanings and uses. These keywords cannot be used as variables, or functions, because they are part of Python's syntax and operations\n",
        "examples of keywords are: if, else, elif, break, continue, true, false, etc."
      ],
      "metadata": {
        "id": "i5pDTbcwSOzL"
      }
    },
    {
      "cell_type": "markdown",
      "source": [
        "4. Can keywords be used as variable names ?\n",
        "   - No, keywords in Python cannot be used as variable names because they are reserved for specific functionalities and syntax.\n"
      ],
      "metadata": {
        "id": "yEEhL2HqVC6O"
      }
    },
    {
      "cell_type": "markdown",
      "source": [
        "5. What is mutability in Python ?\n",
        "   - Mutability in Python is the ability of an object to be modified after it is created by mutability you can change the contents by adding, removing, or modifying the object without the need of a new object for example [list]"
      ],
      "metadata": {
        "id": "l_twcC0tVpOU"
      }
    },
    {
      "cell_type": "markdown",
      "source": [
        "6. Why are lists mutable, but tuples are immutable ?\n",
        "   - Lists are mutable because they are designed to allow modification after creation, on the other hand tuples are immutable and are designed to be static and reliable , meaning their contents cannot be changed once they are created."
      ],
      "metadata": {
        "id": "jcjnrycmW0TP"
      }
    },
    {
      "cell_type": "markdown",
      "source": [
        "7. What is the difference between “==” and “is” operators in Python ?\n",
        "   - In python == and is operators both compare values but in different ways like\n",
        "   (==) it is used to checks if the values of two objects are equal or not\n",
        "   and in case of (is) it checks if the two variables are at the same place in memory block."
      ],
      "metadata": {
        "id": "tsKZKrsrX4T1"
      }
    },
    {
      "cell_type": "markdown",
      "source": [
        "8. What are logical operators in Python ?\n",
        "   - Logical operators in Python are used to combine or modify boolean values (True or False). logical operators like (and), (or), and (not)."
      ],
      "metadata": {
        "id": "4e0N2sUDZziQ"
      }
    },
    {
      "cell_type": "markdown",
      "source": [
        "9. What is type casting in Python ?\n",
        "  - Type casting in Python refers to converting one data type into another it is a process of changing the data type of a variable.\n",
        "   Python supports two types of type casting:\n",
        "\n",
        "Explicit type casting\n",
        "\n",
        "Implicit type casting\n"
      ],
      "metadata": {
        "id": "achnx9awakWa"
      }
    },
    {
      "cell_type": "markdown",
      "source": [
        "10. What is the difference between implicit and explicit type casting ?\n",
        "   - Explicit type casting:\n",
        "You manually convert a variable's type using built-in functions like int(), float(), str(), list(), etc.\n",
        "\n",
        "\n",
        "   - Implicit type casting:\n",
        "Python automatically converts one data type to another when it’s safe and doesn’t cause data loss.\n"
      ],
      "metadata": {
        "id": "ot4LvSGmb7qH"
      }
    },
    {
      "cell_type": "markdown",
      "source": [
        "11. What is the purpose of conditional statements in Python ?\n",
        "    - Conditional statements in Python serve an important role in controlling the flow of a program. They allow different blocks of code to be executed based on whether a specific condition is true or false. This enables programs to make decisions and respond to different inputs or situations. examples: if, elif, and else."
      ],
      "metadata": {
        "id": "7592kPmrckvD"
      }
    },
    {
      "cell_type": "markdown",
      "source": [
        "12. How does the elif statement work ?\n",
        "    - The “elif” keyword in Python, stands for “else if”. It can be used in conditional statements to check for multiple conditions. For example, if the first condition is false, it moves on to the next “elif” statement to check if that condition is true and if both the conditions are false then it checks the else condition and execute it code accordingly."
      ],
      "metadata": {
        "id": "tKzlD17WdyhT"
      }
    },
    {
      "cell_type": "markdown",
      "source": [
        "13. What is the difference between for and while loops ?\n",
        "   - Both for and while loops in Python are used for iteration, but they have slightly different purposes and are suited to different kinds of tasks.\n",
        "   - For loop - Used to iterate over a sequence (like a list, tuple, or string) or a range of numbers. It is ideal when the number of iterations is predetermined or when you are looping through an iterable object\n",
        "   - While loop - Used when the number of iterations is not known in advance, and the loop continues as long as a condition remains true. It is ideal for scenarios where the loop may need to break early based on some condition."
      ],
      "metadata": {
        "id": "HwCRiab3e3Di"
      }
    },
    {
      "cell_type": "markdown",
      "source": [
        "14. Describe a scenario where a while loop is more suitable than a for loop ?\n",
        "   - A while loop is more suitable than a for loop when the number of iterations is not known beforehand and depends on a specific condition being met.\n",
        "\n",
        "    For example, consider a program that checks whether a user inputs the correct password. You would use a while loop in this scenario because you cannot predict how many attempts the user might take to enter the correct password:\n"
      ],
      "metadata": {
        "id": "CkptBVtPf9zS"
      }
    },
    {
      "cell_type": "code",
      "source": [
        "# (1) Write a Python program to print \"Hello, World!\" ?\n",
        "print(\"Hello, World!\")"
      ],
      "metadata": {
        "colab": {
          "base_uri": "https://localhost:8080/"
        },
        "id": "BonjMvsvcQDs",
        "outputId": "ee2e17ab-f83a-46d5-96c1-4414cdaf6618"
      },
      "execution_count": 1,
      "outputs": [
        {
          "output_type": "stream",
          "name": "stdout",
          "text": [
            "Hello, World!\n"
          ]
        }
      ]
    },
    {
      "cell_type": "code",
      "source": [
        "# (2) Write a Python program that displays your name and age ?\n",
        "name = \"Dhiraj Mehta\"\n",
        "age = 20\n",
        "print(\"Name:\", name)\n",
        "print(\"Age:\", age )"
      ],
      "metadata": {
        "colab": {
          "base_uri": "https://localhost:8080/"
        },
        "id": "4Zu1oZcUhkn6",
        "outputId": "1981368b-666f-4107-adfa-fdc9d316a6f7"
      },
      "execution_count": 4,
      "outputs": [
        {
          "output_type": "stream",
          "name": "stdout",
          "text": [
            "Name: Dhiraj Mehta\n",
            "Age: 20\n"
          ]
        }
      ]
    },
    {
      "cell_type": "code",
      "source": [
        "# (3) Write code to print all the pre-defined keywords in Python using the keyword library ?\n",
        "help('keywords')\n"
      ],
      "metadata": {
        "colab": {
          "base_uri": "https://localhost:8080/"
        },
        "id": "TLOaqtweiM3w",
        "outputId": "651cfd6c-4c51-40fd-9167-13995fecf03d"
      },
      "execution_count": 5,
      "outputs": [
        {
          "output_type": "stream",
          "name": "stdout",
          "text": [
            "\n",
            "Here is a list of the Python keywords.  Enter any keyword to get more help.\n",
            "\n",
            "False               class               from                or\n",
            "None                continue            global              pass\n",
            "True                def                 if                  raise\n",
            "and                 del                 import              return\n",
            "as                  elif                in                  try\n",
            "assert              else                is                  while\n",
            "async               except              lambda              with\n",
            "await               finally             nonlocal            yield\n",
            "break               for                 not                 \n",
            "\n"
          ]
        }
      ]
    },
    {
      "cell_type": "code",
      "source": [
        "# (4) Write a program that checks if a given word is a Python keyword ?\n",
        "import keyword\n",
        "word = input(\"Enter a word: \")\n",
        "if keyword.iskeyword(word):\n",
        "    print(word, \"is a Python keyword.\")\n",
        "else:\n",
        "    print(word, \"is not a Python keyword.\")"
      ],
      "metadata": {
        "colab": {
          "base_uri": "https://localhost:8080/"
        },
        "id": "spgyTsdyjSBO",
        "outputId": "f04f0a3b-16a0-46da-c33a-941a5c57f014"
      },
      "execution_count": 9,
      "outputs": [
        {
          "output_type": "stream",
          "name": "stdout",
          "text": [
            "Enter a word: elif\n",
            "elif is a Python keyword.\n"
          ]
        }
      ]
    },
    {
      "cell_type": "code",
      "source": [
        "# (5) Create a list and tuple in Python, and demonstrate how attempting to change an element works differently for each ?\n",
        "alist = [1, 2, 3]\n",
        "atuple = (4, 5, 6)\n",
        "print(\"Original list:\", alist)\n",
        "alist[0] = 30\n",
        "print(\"Modified list:\", alist)\n",
        "print(\"Original tuple:\", atuple)\n",
        "atuple[2] = 30\n",
        "print(\"Modified tuple:\", atuple)"
      ],
      "metadata": {
        "colab": {
          "base_uri": "https://localhost:8080/",
          "height": 245
        },
        "id": "gTKIDfkmjytu",
        "outputId": "71e1cb0f-18b7-47df-d3e4-4d428d35fe34"
      },
      "execution_count": 18,
      "outputs": [
        {
          "output_type": "stream",
          "name": "stdout",
          "text": [
            "Original list: [1, 2, 3]\n",
            "Modified list: [30, 2, 3]\n",
            "Original tuple: (4, 5, 6)\n"
          ]
        },
        {
          "output_type": "error",
          "ename": "TypeError",
          "evalue": "'tuple' object does not support item assignment",
          "traceback": [
            "\u001b[0;31m---------------------------------------------------------------------------\u001b[0m",
            "\u001b[0;31mTypeError\u001b[0m                                 Traceback (most recent call last)",
            "\u001b[0;32m<ipython-input-18-bab1f15daafb>\u001b[0m in \u001b[0;36m<cell line: 0>\u001b[0;34m()\u001b[0m\n\u001b[1;32m      6\u001b[0m \u001b[0mprint\u001b[0m\u001b[0;34m(\u001b[0m\u001b[0;34m\"Modified list:\"\u001b[0m\u001b[0;34m,\u001b[0m \u001b[0malist\u001b[0m\u001b[0;34m)\u001b[0m\u001b[0;34m\u001b[0m\u001b[0;34m\u001b[0m\u001b[0m\n\u001b[1;32m      7\u001b[0m \u001b[0mprint\u001b[0m\u001b[0;34m(\u001b[0m\u001b[0;34m\"Original tuple:\"\u001b[0m\u001b[0;34m,\u001b[0m \u001b[0matuple\u001b[0m\u001b[0;34m)\u001b[0m\u001b[0;34m\u001b[0m\u001b[0;34m\u001b[0m\u001b[0m\n\u001b[0;32m----> 8\u001b[0;31m \u001b[0matuple\u001b[0m\u001b[0;34m[\u001b[0m\u001b[0;36m2\u001b[0m\u001b[0;34m]\u001b[0m \u001b[0;34m=\u001b[0m \u001b[0;36m30\u001b[0m\u001b[0;34m\u001b[0m\u001b[0;34m\u001b[0m\u001b[0m\n\u001b[0m\u001b[1;32m      9\u001b[0m \u001b[0mprint\u001b[0m\u001b[0;34m(\u001b[0m\u001b[0;34m\"Modified tuple:\"\u001b[0m\u001b[0;34m,\u001b[0m \u001b[0matuple\u001b[0m\u001b[0;34m)\u001b[0m\u001b[0;34m\u001b[0m\u001b[0;34m\u001b[0m\u001b[0m\n",
            "\u001b[0;31mTypeError\u001b[0m: 'tuple' object does not support item assignment"
          ]
        }
      ]
    },
    {
      "cell_type": "code",
      "source": [
        "# (6)  Write a function to demonstrate the behavior of mutable and immutable arguments ?\n",
        "mutable_list = [1, 2, 3, 4, 5]\n",
        "immutable_int = 10\n",
        "print(\"Original list:\", mutable_list)\n",
        "print(\"Original integer:\", immutable_int)\n",
        "mutable_list[1] = 99\n",
        "print(\"Before function call:\")\n",
        "print(\"Mutable object:\", mutable_list)\n",
        "print(\"Immutable object:\", immutable_int)"
      ],
      "metadata": {
        "colab": {
          "base_uri": "https://localhost:8080/"
        },
        "id": "AcDYUny8myge",
        "outputId": "c6370c90-fef9-4011-b012-a6119b58638e"
      },
      "execution_count": 28,
      "outputs": [
        {
          "output_type": "stream",
          "name": "stdout",
          "text": [
            "Original list: [1, 2, 3, 4, 5]\n",
            "Original integer: 10\n",
            "Before function call:\n",
            "Mutable object: [1, 99, 3, 4, 5]\n",
            "Immutable object: 10\n"
          ]
        }
      ]
    },
    {
      "cell_type": "code",
      "source": [
        "# (7)  Write a program that performs basic arithmetic operations on two user-input numbers ?\n",
        "num1 = int(input(\"Enter the first number: \"))\n",
        "num2 = int(input(\"Enter the second number: \"))\n",
        "print(\"Addition:\", num1 + num2)\n",
        "print(\"Subtraction:\", num1 - num2)\n",
        "print(\"Multiplication:\", num1 * num2)\n",
        "print(\"Division:\", num1 / num2)"
      ],
      "metadata": {
        "colab": {
          "base_uri": "https://localhost:8080/"
        },
        "id": "UA70HdA2oTdy",
        "outputId": "38899b33-69e6-4532-f458-adba51ad4d9e"
      },
      "execution_count": 30,
      "outputs": [
        {
          "output_type": "stream",
          "name": "stdout",
          "text": [
            "Enter the first number: 80\n",
            "Enter the second number: 66\n",
            "Addition: 146\n",
            "Subtraction: 14\n",
            "Multiplication: 5280\n",
            "Division: 1.2121212121212122\n"
          ]
        }
      ]
    },
    {
      "cell_type": "code",
      "source": [
        "# (8) Write a program to demonstrate the use of logical operators ?\n",
        "num1 = int(input(\"Enter the first number: \"))\n",
        "num2 = int(input(\"Enter the second number: \"))\n",
        "\n",
        "if num1 > 0 and num2 > 0:\n",
        "    print(\"Both numbers are positive.\")\n",
        "else:\n",
        "    print(\"at least one of the numbers is negative.\")\n",
        "\n",
        "if num1 % 2 == 0 or num2 % 2 == 0:\n",
        "    print(\"at least one of the numbers is even.\")\n",
        "else:\n",
        "    print(\"Both numbers are odd.\")\n",
        "\n",
        "if not (num1 == num2):\n",
        "    print(\"The two numbers are not equal.\")\n",
        "else:\n",
        "    print(\"The two numbers are equal.\")"
      ],
      "metadata": {
        "colab": {
          "base_uri": "https://localhost:8080/"
        },
        "id": "fp0TjqgfpRm2",
        "outputId": "f16336e1-11af-4500-9912-b81eeaeb4bde"
      },
      "execution_count": 35,
      "outputs": [
        {
          "output_type": "stream",
          "name": "stdout",
          "text": [
            "Enter the first number: 15\n",
            "Enter the second number: 15\n",
            "Both numbers are positive.\n",
            "Both numbers are odd.\n",
            "The two numbers are equal.\n"
          ]
        }
      ]
    },
    {
      "cell_type": "code",
      "source": [
        "# (9) Write a Python program to convert user input from string to integer, float, and boolean types ?\n"
      ],
      "metadata": {
        "id": "Ip3umN3wq-nk"
      },
      "execution_count": 45,
      "outputs": []
    },
    {
      "cell_type": "code",
      "source": [
        "# (10) Write code to demonstrate type casting with list elements ?\n",
        "my_list = [1, 2, 3.14, True]\n",
        "print(\"Original list:\", my_list)\n",
        "print(\"Type of each element in the list:\")\n",
        "print(type(my_list))\n",
        "print(type(my_list[0]))\n",
        "print(type(my_list[1]))\n",
        "print(type(my_list[2]))\n",
        "print(type(my_list[3]))"
      ],
      "metadata": {
        "colab": {
          "base_uri": "https://localhost:8080/"
        },
        "id": "FLzdjUa1tOMk",
        "outputId": "9f850bfd-54ea-4c0b-8754-e941fc717bfd"
      },
      "execution_count": 51,
      "outputs": [
        {
          "output_type": "stream",
          "name": "stdout",
          "text": [
            "Original list: [1, 2, 3.14, True]\n",
            "Type of each element in the list:\n",
            "<class 'list'>\n",
            "<class 'int'>\n",
            "<class 'int'>\n",
            "<class 'float'>\n",
            "<class 'bool'>\n"
          ]
        }
      ]
    },
    {
      "cell_type": "code",
      "source": [
        " # (11) Write a program that checks if a number is positive, negative, or zero ?\n",
        "num = float(input(\"Enter a number: \"))\n",
        "if num > 0:\n",
        "        print(\"The number is positive.\")\n",
        "elif num < 0:\n",
        "        print(\"The number is negative.\")\n",
        "else:\n",
        "        print(\"The number is zero.\")\n",
        "print(type(num))\n"
      ],
      "metadata": {
        "colab": {
          "base_uri": "https://localhost:8080/"
        },
        "id": "KXL2uqSjvA40",
        "outputId": "1530bc38-2b6e-461f-82ab-984326e6358c"
      },
      "execution_count": 55,
      "outputs": [
        {
          "output_type": "stream",
          "name": "stdout",
          "text": [
            "Enter a number: -0.15\n",
            "The number is negative.\n",
            "<class 'float'>\n"
          ]
        }
      ]
    },
    {
      "cell_type": "code",
      "source": [
        " # (12) Write a for loop to print numbers from 1 to 10 ?\n",
        "for num in range(1, 11):\n",
        "    print(num)"
      ],
      "metadata": {
        "colab": {
          "base_uri": "https://localhost:8080/"
        },
        "id": "kCNG65SbwF0b",
        "outputId": "3abb3cf4-4f82-4579-96e9-5e578acca20f"
      },
      "execution_count": 56,
      "outputs": [
        {
          "output_type": "stream",
          "name": "stdout",
          "text": [
            "1\n",
            "2\n",
            "3\n",
            "4\n",
            "5\n",
            "6\n",
            "7\n",
            "8\n",
            "9\n",
            "10\n"
          ]
        }
      ]
    },
    {
      "cell_type": "code",
      "source": [
        " #(13)  Write a Python program to find the sum of all even numbers between 1 and 50 ?\n",
        "sumofnumbers = 0\n",
        "for number in range(1, 51):\n",
        "    if number % 2 == 0:\n",
        "        sumofnumbers += number\n",
        "print(\"The sum of all even numbers between 1 and 50 is:\", sumofnumbers)\n",
        "\n",
        "\n"
      ],
      "metadata": {
        "colab": {
          "base_uri": "https://localhost:8080/"
        },
        "id": "rzjnohTDwhOZ",
        "outputId": "487100f5-ee21-46c9-ea19-b6f5ce439633"
      },
      "execution_count": 59,
      "outputs": [
        {
          "output_type": "stream",
          "name": "stdout",
          "text": [
            "The sum of all even numbers between 1 and 50 is: 650\n"
          ]
        }
      ]
    },
    {
      "cell_type": "code",
      "source": [
        "# (14) Write a program to reverse a string using a while loop ?\n",
        "input_string = input(\"Enter a string: \")\n",
        "reversed_string = \"\"\n",
        "index = len(input_string) - 1\n",
        "while index >= 0:\n",
        "    reversed_string += input_string[index]\n",
        "    index -= 1\n",
        "print(\"Reversed string:\", reversed_string)"
      ],
      "metadata": {
        "colab": {
          "base_uri": "https://localhost:8080/"
        },
        "id": "n_mxq4ksxN2p",
        "outputId": "e49c3a94-6fa8-4a31-91c2-19312be74d2d"
      },
      "execution_count": 62,
      "outputs": [
        {
          "output_type": "stream",
          "name": "stdout",
          "text": [
            "Enter a string: Dhiraj\n",
            "Reversed string: jarihD\n"
          ]
        }
      ]
    },
    {
      "cell_type": "code",
      "source": [
        "# (15) Write a Python program to calculate the factorial of a number provided by the user using a while loop ?\n",
        "number = int(input(\"Enter a number: \"))\n",
        "factorial = 1\n",
        "current_number = 1\n",
        "while current_number <= number:\n",
        "    factorial *= current_number\n",
        "    current_number += 1\n",
        "print(\"The factorial of\", number, \"is\", factorial)"
      ],
      "metadata": {
        "colab": {
          "base_uri": "https://localhost:8080/"
        },
        "id": "x_4KEwTjxw-W",
        "outputId": "2e17dde8-0396-4e63-a2bf-1514309e6ea9"
      },
      "execution_count": 63,
      "outputs": [
        {
          "output_type": "stream",
          "name": "stdout",
          "text": [
            "Enter a number: 113\n",
            "The factorial of 113 is 22311927486598136465966070212187151182564399087952213171022161345724023063584214692821047352118139068425569179220877461124773845924561575264739138192463311667200000000000000000000000000\n"
          ]
        }
      ]
    }
  ]
}